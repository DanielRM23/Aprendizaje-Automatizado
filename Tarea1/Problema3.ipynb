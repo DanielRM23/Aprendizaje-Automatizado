{
 "cells": [
  {
   "cell_type": "markdown",
   "id": "604bc528-a4e5-4cd6-879d-40f15db38832",
   "metadata": {},
   "source": [
    "# PROBLEMA 3: **Cáncer de Seno**  \n",
    "\n",
    "### Entrega: Daniel Rojo Mata"
   ]
  },
  {
   "cell_type": "markdown",
   "id": "b0928c97-5870-421d-9aa2-edbbd6591c77",
   "metadata": {},
   "source": [
    "## **Enunciado del problema**\n",
    "\n",
    "Utiliza el conjunto de datos de cáncer de seno de Wisconsin, que contiene 699 registros de tumores, de los cuales 458 son benignos y 241 son malignos. Cada registro consta de los siguientes atributos:\n",
    "\n",
    "### **1. Preparación de los datos:**\n",
    "   - Divide aleatoriamente el conjunto de datos en un subconjunto de entrenamiento con el 60 % de los datos, un subconjunto de validación con el 20 % y un subconjunto de prueba con el 20 % restante, utilizando 0 como semilla para tu generador de números aleatorios.\n",
    "\n",
    "### **2. Entrenamiento del clasificador:**\n",
    "   - Entrena distintos clasificadores para los tumores de seno y evalúalos tanto con el subconjunto de entrenamiento como con el subconjunto de validación, discutiendo su desempeño.\n",
    "\n",
    "### **3. Manejo de datos faltantes:**\n",
    "   - Investiga estrategias para rellenar los datos faltantes, ya que existen 16 registros en el conjunto de datos con un atributo no especificado. Utiliza las estrategias que consideres más adecuadas y discute el impacto en el desempeño del clasificador.\n",
    "\n",
    "### **4. Evaluación del modelo:**\n",
    "   - Reporta el porcentaje de predicciones correctas en el subconjunto de prueba para el clasificador que tenga el mejor rendimiento en el subconjunto de validación.\n",
    "\n",
    "## **Descripción del conjunto de datos**\n",
    "El conjunto de datos de cáncer de seno de Wisconsin incluye registros de tumores con las siguientes características:\n",
    "- **Atributos:** Contiene varias mediciones y características relacionadas con los tumores.\n",
    "- **Etiquetas:** Indica si el tumor es benigno o maligno.\n"
   ]
  },
  {
   "cell_type": "code",
   "execution_count": 55,
   "id": "f2068b47-cf14-4b00-85af-62be7b147d34",
   "metadata": {},
   "outputs": [],
   "source": [
    "import pandas as pd \n",
    "import numpy as np\n",
    "import matplotlib.pyplot as plt\n",
    "import seaborn as sns\n",
    "from sklearn.model_selection import train_test_split\n",
    "from sklearn.metrics import accuracy_score\n",
    "from sklearn.naive_bayes import GaussianNB\n",
    "from sklearn.metrics import accuracy_score"
   ]
  },
  {
   "cell_type": "markdown",
   "id": "3395021b-dba6-4dcd-a928-0a023035c5c5",
   "metadata": {},
   "source": [
    "## Se procesa la data"
   ]
  },
  {
   "cell_type": "code",
   "execution_count": 2,
   "id": "fcf7aa03-2466-4768-8fa4-8d0b5247644d",
   "metadata": {},
   "outputs": [],
   "source": [
    "archivo = \"cancer.csv\" # Nombre del archivo, es importante que esté en la misma carpeta que este archivo\n",
    "data = pd.read_csv(archivo, # Se importa el archivo\n",
    "                  header=None, # Quitamos el encabezado\n",
    "                  sep=',' # Separador\n",
    "                  )"
   ]
  },
  {
   "cell_type": "markdown",
   "id": "026a0a4f-fed0-4a87-b269-f97f7eaff438",
   "metadata": {},
   "source": [
    "## Observación: Sobre el procesamiento de la data \n",
    "Los datos están organizados de la siguiente manera:"
   ]
  },
  {
   "cell_type": "code",
   "execution_count": 93,
   "id": "ad79dfe8-fc47-4cd9-b687-0cd1fe99e0c7",
   "metadata": {},
   "outputs": [
    {
     "data": {
      "text/html": [
       "<div>\n",
       "<style scoped>\n",
       "    .dataframe tbody tr th:only-of-type {\n",
       "        vertical-align: middle;\n",
       "    }\n",
       "\n",
       "    .dataframe tbody tr th {\n",
       "        vertical-align: top;\n",
       "    }\n",
       "\n",
       "    .dataframe thead th {\n",
       "        text-align: right;\n",
       "    }\n",
       "</style>\n",
       "<table border=\"1\" class=\"dataframe\">\n",
       "  <thead>\n",
       "    <tr style=\"text-align: right;\">\n",
       "      <th></th>\n",
       "      <th>0</th>\n",
       "    </tr>\n",
       "  </thead>\n",
       "  <tbody>\n",
       "    <tr>\n",
       "      <th>0</th>\n",
       "      <td>1000025,5,1,1,1,2,1,3,1,1,2</td>\n",
       "    </tr>\n",
       "    <tr>\n",
       "      <th>1</th>\n",
       "      <td>1002945,5,4,4,5,7,10,3,2,1,2</td>\n",
       "    </tr>\n",
       "    <tr>\n",
       "      <th>2</th>\n",
       "      <td>1015425,3,1,1,1,2,2,3,1,1,2</td>\n",
       "    </tr>\n",
       "    <tr>\n",
       "      <th>3</th>\n",
       "      <td>1016277,6,8,8,1,3,4,3,7,1,2</td>\n",
       "    </tr>\n",
       "    <tr>\n",
       "      <th>4</th>\n",
       "      <td>1017023,4,1,1,3,2,1,3,1,1,2</td>\n",
       "    </tr>\n",
       "  </tbody>\n",
       "</table>\n",
       "</div>"
      ],
      "text/plain": [
       "                              0\n",
       "0   1000025,5,1,1,1,2,1,3,1,1,2\n",
       "1  1002945,5,4,4,5,7,10,3,2,1,2\n",
       "2   1015425,3,1,1,1,2,2,3,1,1,2\n",
       "3   1016277,6,8,8,1,3,4,3,7,1,2\n",
       "4   1017023,4,1,1,3,2,1,3,1,1,2"
      ]
     },
     "execution_count": 93,
     "metadata": {},
     "output_type": "execute_result"
    }
   ],
   "source": [
    "data.head(5) # Ver los primeros 5 elementos de la data"
   ]
  },
  {
   "cell_type": "markdown",
   "id": "4ac0ad85-ddd7-461e-a218-a7b12537f442",
   "metadata": {},
   "source": [
    "Tomando el primer elemento se obtiene: "
   ]
  },
  {
   "cell_type": "code",
   "execution_count": 92,
   "id": "66cf3b78-4812-404c-ad18-8371af4e0b67",
   "metadata": {},
   "outputs": [
    {
     "data": {
      "text/plain": [
       "0    1000025,5,1,1,1,2,1,3,1,1,2\n",
       "Name: 0, dtype: object"
      ]
     },
     "execution_count": 92,
     "metadata": {},
     "output_type": "execute_result"
    }
   ],
   "source": [
    "data.iloc[0,:] # Ver el primer renglón"
   ]
  },
  {
   "cell_type": "markdown",
   "id": "dccf253d-1c97-466e-a210-2035db37694b",
   "metadata": {},
   "source": [
    "Por lo que no es posible procesar de una manera adecuada los datos. \n",
    "Es por eso que se usa la función **procesar_data** la cual retorna \n",
    "los datos como una lista de listas, en donde cada lista contiene elementos de tipo entero."
   ]
  },
  {
   "cell_type": "code",
   "execution_count": 90,
   "id": "a520139d-a59b-40f0-ad38-fb1fb54751de",
   "metadata": {},
   "outputs": [],
   "source": [
    "def procesar_data(data):\n",
    "    \"\"\"\n",
    "    Función que retorna una lista de listas con valores enteros, \n",
    "    convirtiendo los datos del DataFrame en una estructura manejable.\n",
    "\n",
    "    Parámetros: \n",
    "        data: DataFrame de pandas con los datos en formato de una sola columna con valores separados por comas.\n",
    "\n",
    "    Return: \n",
    "        lista_numerica: lista de listas con valores enteros, manteniendo los \"?\" como están.\n",
    "    \"\"\"\n",
    "    \n",
    "    lista_inicial = data.values.tolist()  # Convierte el DataFrame en una lista de listas (cada fila como lista).\n",
    "    lista_numerica = []  # Lista que almacenará los datos convertidos.\n",
    "\n",
    "    for lista in lista_inicial:  # Itera sobre cada fila del dataset.\n",
    "        for i in range(len(lista)):  \n",
    "            lista_split = lista[i].split(\",\")  # Divide la cadena en una lista separando por comas.\n",
    "            lista_auxiliar = []  # Lista temporal para almacenar los valores convertidos.\n",
    "\n",
    "            for k in lista_split:  # Itera sobre los valores de la lista dividida.\n",
    "                if k != \"?\":  # Si el valor no es un \"?\", lo convierte en entero.\n",
    "                    lista_auxiliar.append(int(k))\n",
    "                else:  # Si es \"?\", lo mantiene como está para su posterior tratamiento.\n",
    "                    lista_auxiliar.append(k)\n",
    "\n",
    "            lista_numerica.append(lista_auxiliar)  # Agrega la lista procesada a la lista principal.\n",
    "\n",
    "    return lista_numerica  # Retorna la lista de listas con valores convertidos."
   ]
  },
  {
   "cell_type": "markdown",
   "id": "3347c201-b8aa-4ee6-a52e-bcbb24df4589",
   "metadata": {},
   "source": [
    "# Lista inicial\n",
    "\n",
    "Lista que se usará de aquí en adelante."
   ]
  },
  {
   "cell_type": "code",
   "execution_count": 94,
   "id": "d003f261-b204-405e-8654-a25adc0ffaaa",
   "metadata": {},
   "outputs": [],
   "source": [
    "lista_inicial = procesar_data(data) # Se procesa la data con la función anterior"
   ]
  },
  {
   "cell_type": "markdown",
   "id": "e73e9f36-566c-4f0e-b011-0f218ae97b75",
   "metadata": {},
   "source": [
    "# Datos faltantes"
   ]
  },
  {
   "cell_type": "markdown",
   "id": "9ab23b51-183d-4ccb-a0d8-7f06abd89fed",
   "metadata": {},
   "source": [
    "Se tienen 16 registros en los cuales no se tiene completa la información.\n",
    "La función **listas_con_interrogacion** devuelve estas listas (registros)."
   ]
  },
  {
   "cell_type": "code",
   "execution_count": 95,
   "id": "5c8fd7d4-58d7-40ac-9845-75aa5ae0347e",
   "metadata": {},
   "outputs": [],
   "source": [
    "def listas_con_interrogacion(lista_de_listas):\n",
    "    \"\"\"\n",
    "    Función que devuelve las listas que incluyen el carácter \"?\".\n",
    "    \n",
    "    Parámetros: \n",
    "        lista_de_listas: lista cuyos elementos son listas con valores numéricos\n",
    "        o con el carácter \"?\".\n",
    "    \n",
    "    Return:\n",
    "        Una lista que contiene solo las sublistas que contienen el carácter \"?\".\n",
    "    \"\"\"\n",
    "    # Utiliza una comprensión de listas para filtrar las sublistas que contienen \"?\".\n",
    "    return [lista for lista in lista_de_listas if \"?\" in lista]"
   ]
  },
  {
   "cell_type": "code",
   "execution_count": 96,
   "id": "9c539c58-6086-4ac4-9a61-7fd1b11c2fea",
   "metadata": {},
   "outputs": [
    {
     "data": {
      "text/plain": [
       "[[1057013, 8, 4, 5, 1, 2, '?', 7, 3, 1, 4],\n",
       " [1096800, 6, 6, 6, 9, 6, '?', 7, 8, 1, 2],\n",
       " [1183246, 1, 1, 1, 1, 1, '?', 2, 1, 1, 2],\n",
       " [1184840, 1, 1, 3, 1, 2, '?', 2, 1, 1, 2],\n",
       " [1193683, 1, 1, 2, 1, 3, '?', 1, 1, 1, 2],\n",
       " [1197510, 5, 1, 1, 1, 2, '?', 3, 1, 1, 2],\n",
       " [1241232, 3, 1, 4, 1, 2, '?', 3, 1, 1, 2],\n",
       " [169356, 3, 1, 1, 1, 2, '?', 3, 1, 1, 2],\n",
       " [432809, 3, 1, 3, 1, 2, '?', 2, 1, 1, 2],\n",
       " [563649, 8, 8, 8, 1, 2, '?', 6, 10, 1, 4],\n",
       " [606140, 1, 1, 1, 1, 2, '?', 2, 1, 1, 2],\n",
       " [61634, 5, 4, 3, 1, 2, '?', 2, 3, 1, 2],\n",
       " [704168, 4, 6, 5, 6, 7, '?', 4, 9, 1, 2],\n",
       " [733639, 3, 1, 1, 1, 2, '?', 3, 1, 1, 2],\n",
       " [1238464, 1, 1, 1, 1, 1, '?', 2, 1, 1, 2],\n",
       " [1057067, 1, 1, 1, 1, 1, '?', 1, 1, 1, 2]]"
      ]
     },
     "execution_count": 96,
     "metadata": {},
     "output_type": "execute_result"
    }
   ],
   "source": [
    "# Listas en donde se tiene un elemento con \"?\"\n",
    "listas_interrogacion = listas_con_interrogacion(lista_inicial) \n",
    "# Son 16 cosos\n",
    "listas_interrogacion"
   ]
  },
  {
   "cell_type": "markdown",
   "id": "a93471dc-344b-437c-9246-f8faf184becc",
   "metadata": {},
   "source": [
    "Por lo que antes de dividir el conjunto de datos en las proporciones que se piden,\n",
    "se piensan las siguientes estrategias para \"completar\" esos datos."
   ]
  },
  {
   "cell_type": "markdown",
   "id": "1f928e77-5c7b-4f39-ba0f-31c1fb60bb04",
   "metadata": {},
   "source": [
    "# **Estrategias para llenar los datos faltantes**\n",
    "\n",
    "En este trabajo se emplean dos estrategias para manejar los valores faltantes representados por `\"?\"`:  \n",
    "\n",
    "## **1. Eliminar filas con `?`**  \n",
    "Esta estrategia consiste en eliminar directamente todas las filas que contienen valores desconocidos.  \n",
    "\n",
    "✅ **Ventajas:**  \n",
    "- Simple de implementar.  \n",
    "- Evita cualquier sesgo introducido por valores imputados.  \n",
    "\n",
    "❌ **Desventajas:**  \n",
    "- Se pierde información útil si hay muchas filas afectadas.  \n",
    "- Puede reducir el tamaño del conjunto de datos, lo que impacta la calidad del modelo.  \n",
    "\n",
    "## **2. Imputación con la mediana**  \n",
    "En este enfoque, los valores faltantes se reemplazan con la mediana de la columna correspondiente. La mediana es robusta a valores extremos, lo que la hace adecuada para datos sesgados.  \n",
    "\n",
    "✅ **Ventajas:**  \n",
    "- Conserva la mayor cantidad posible de datos.  \n",
    "- Reduce el impacto de valores atípicos en comparación con la media.  \n",
    "\n",
    "❌ **Desventajas:**  \n",
    "- Puede introducir sesgo si los datos faltantes no están distribuidos aleatoriamente.  \n",
    "- No captura variabilidad en los valores reemplazados.  "
   ]
  },
  {
   "cell_type": "markdown",
   "id": "9dc296bf-64eb-4c13-b683-feac67127f30",
   "metadata": {},
   "source": [
    "## Estrategia 1: Eliminar filas con \"?\"\n",
    "\n",
    "Se borran estos datos en **lista_inicial**."
   ]
  },
  {
   "cell_type": "code",
   "execution_count": 97,
   "id": "78b4342b-4d22-4b9e-ad2d-b12e4eaba655",
   "metadata": {},
   "outputs": [],
   "source": [
    "# Filtra las sublistas de lista_inicial para eliminar aquellas que contienen el carácter \"?\".\n",
    "data_numpy_filtrado = [sublista for sublista in lista_inicial if sublista not in listas_con_interrogacion(lista_inicial)]"
   ]
  },
  {
   "cell_type": "code",
   "execution_count": 98,
   "id": "9b55be91-a671-4dfb-86ff-8ffb91b7fd02",
   "metadata": {},
   "outputs": [
    {
     "data": {
      "text/plain": [
       "True"
      ]
     },
     "execution_count": 98,
     "metadata": {},
     "output_type": "execute_result"
    }
   ],
   "source": [
    "# Se observa que las lingitudes coinciden\n",
    "len(data_numpy_filtrado) == len(lista_inicial)-len(listas_interrogacion)"
   ]
  },
  {
   "cell_type": "code",
   "execution_count": 99,
   "id": "7408a258-8030-40e6-9c48-e4c188bcb970",
   "metadata": {},
   "outputs": [
    {
     "data": {
      "text/plain": [
       "683"
      ]
     },
     "execution_count": 99,
     "metadata": {},
     "output_type": "execute_result"
    }
   ],
   "source": [
    "# 699 - 16 = 683\n",
    "len(data_numpy_filtrado)"
   ]
  },
  {
   "cell_type": "markdown",
   "id": "6d827c90-2618-4294-8432-22fd4afede9f",
   "metadata": {},
   "source": [
    "### División del conjunto de datos utilizando las filas eliminadas con \"?\"\n",
    "\n",
    "Para dividir la data, se usan los datos en **data_numpy_filtrado**"
   ]
  },
  {
   "cell_type": "code",
   "execution_count": 100,
   "id": "7355fef5-80e5-4bd1-a2ff-d7ef05a0282d",
   "metadata": {},
   "outputs": [
    {
     "name": "stdout",
     "output_type": "stream",
     "text": [
      "Tamaño del conjunto de entrenamiento: (409, 10)\n",
      "Tamaño del conjunto de validación: (137, 10)\n",
      "Tamaño del conjunto de prueba: (137, 10)\n"
     ]
    }
   ],
   "source": [
    "# IMPORTANTE: hacemos que data_numpy_filtrado sea un array para poder usar [:,:]\n",
    "X_interrogacion = np.array(data_numpy_filtrado)[:, :-1]  # Todas las columnas excepto la última\n",
    "y_interrogacion = np.array(data_numpy_filtrado)[:, -1]   # Solo la última columna\n",
    "\n",
    "# Dividir en conjunto de entrenamiento (60%) y el resto (40%)\n",
    "X_ent, X_temp, y_ent, y_temp = train_test_split(X_interrogacion, y_interrogacion, test_size=0.4, random_state=0)\n",
    "\n",
    "# Dividir el conjunto temporal en validación (20%) y prueba (20%)\n",
    "X_val, X_test, y_val, y_test = train_test_split(X_temp, y_temp, test_size=0.5, random_state=0)\n",
    "\n",
    "# Ver las dimensiones de los conjuntos anteriores\n",
    "print(f'Tamaño del conjunto de entrenamiento: {X_ent.shape}')\n",
    "print(f'Tamaño del conjunto de validación: {X_val.shape}')\n",
    "print(f'Tamaño del conjunto de prueba: {X_test.shape}')"
   ]
  },
  {
   "cell_type": "markdown",
   "id": "f6278819-7d50-491f-af24-8d7e59855b3d",
   "metadata": {},
   "source": [
    "### Clasificador Gaussiano importado de Sklearn"
   ]
  },
  {
   "cell_type": "code",
   "execution_count": 101,
   "id": "4ccce1d5-fc11-4304-9661-ff989d01bb2d",
   "metadata": {},
   "outputs": [
    {
     "name": "stdout",
     "output_type": "stream",
     "text": [
      "Precisión en entrenamiento: 66.75%\n",
      "Precisión en validación: 70.80%\n",
      "Precisión en prueba: 70.80%\n"
     ]
    }
   ],
   "source": [
    "# Crear una instancia del clasificador Naive Bayes Gaussiano\n",
    "nb_classifier = GaussianNB()\n",
    "\n",
    "# Entrenar el modelo con los datos de entrenamiento\n",
    "nb_classifier.fit(X_ent, y_ent)\n",
    "\n",
    "# Predecir para los conjuntos de entrenamiento, validación y prueba\n",
    "predicciones_ent = nb_classifier.predict(X_ent)\n",
    "predicciones_val = nb_classifier.predict(X_val)\n",
    "predicciones_test = nb_classifier.predict(X_test)\n",
    "\n",
    "# Calcular la precisión (accuracy)\n",
    "accuracy_ent_interrogacion = accuracy_score(y_ent, predicciones_ent) * 100\n",
    "accuracy_val_interrogacion = accuracy_score(y_val, predicciones_val) * 100\n",
    "accuracy_test_interrogacion = accuracy_score(y_test, predicciones_test) * 100\n",
    "\n",
    "# Imprimir los resultados\n",
    "print(f\"Precisión en entrenamiento: {accuracy_ent_interrogacion:.2f}%\")\n",
    "print(f\"Precisión en validación: {accuracy_val_interrogacion:.2f}%\")\n",
    "print(f\"Precisión en prueba: {accuracy_test_interrogacion:.2f}%\")"
   ]
  },
  {
   "cell_type": "markdown",
   "id": "9b787e45-9b9e-4f95-872f-f700deecf7e0",
   "metadata": {},
   "source": [
    "## Estrategia 2: imputación con la mediana\n",
    "\n"
   ]
  },
  {
   "cell_type": "code",
   "execution_count": 102,
   "id": "532f1458-b06b-43ab-ac09-d08b5ab0cd48",
   "metadata": {},
   "outputs": [],
   "source": [
    "# Se convierte la lista_inicial en un array de numpy\n",
    "lista_inicial_array = np.array(lista_inicial, dtype=object)  # dtype=object porque hay strings\n",
    "\n",
    "# Reemplazar \"?\" con NaN\n",
    "lista_inicial_array[lista_inicial_array == \"?\"] = np.nan\n",
    "\n",
    "# Convertir a tipo numérico\n",
    "lista_inicial_array = lista_inicial_array.astype(float)\n",
    "\n",
    "# Calcular la mediana ignorando NaN\n",
    "medianas = np.nanmedian(lista_inicial_array, axis=0)\n",
    "\n",
    "# Reemplazar los NaN con la mediana de la columna correspondiente\n",
    "indices_nan = np.where(np.isnan(lista_inicial_array))\n",
    "lista_inicial_array[indices_nan] = np.take(medianas, indices_nan[1])"
   ]
  },
  {
   "cell_type": "markdown",
   "id": "9cb39a22-e21a-42b5-b035-899266601178",
   "metadata": {},
   "source": [
    "### División del conjunto de datos utilizando imputación con la mediana\n",
    "\n",
    "Para dividir la data, se usan los datos en **data_numpy_mediana**"
   ]
  },
  {
   "cell_type": "code",
   "execution_count": 103,
   "id": "a0b13138-d9aa-4770-8fe9-373263100947",
   "metadata": {},
   "outputs": [
    {
     "name": "stdout",
     "output_type": "stream",
     "text": [
      "Tamaño del conjunto de entrenamiento: (419, 10)\n",
      "Tamaño del conjunto de validación: (140, 10)\n",
      "Tamaño del conjunto de prueba: (140, 10)\n"
     ]
    }
   ],
   "source": [
    "# Convertimos lista_inicial_array a un array NumPy si aún no lo es\n",
    "data_numpy_mediana = np.array(lista_inicial_array)  \n",
    "\n",
    "# Separa características (X) y etiquetas (y)\n",
    "X_mediana = data_numpy_mediana[:, :-1]  # Todas las columnas excepto la última\n",
    "y_mediana = data_numpy_mediana[:, -1]   # Solo la última columna\n",
    "\n",
    "# Convertir etiquetas a enteros por si están como flotantes\n",
    "y_mediana = y_mediana.astype(int)\n",
    "\n",
    "# Dividir en conjunto de entrenamiento (60%) y el resto (40%)\n",
    "X_ent, X_temp, y_ent, y_temp = train_test_split(X_mediana, y_mediana, test_size=0.4, random_state=0)\n",
    "\n",
    "# Dividir el conjunto temporal en validación (20%) y prueba (20%)\n",
    "X_val, X_test, y_val, y_test = train_test_split(X_temp, y_temp, test_size=0.5, random_state=0)\n",
    "\n",
    "# Ver las dimensiones de los conjuntos\n",
    "print(f'Tamaño del conjunto de entrenamiento: {X_ent.shape}')\n",
    "print(f'Tamaño del conjunto de validación: {X_val.shape}')\n",
    "print(f'Tamaño del conjunto de prueba: {X_test.shape}')"
   ]
  },
  {
   "cell_type": "markdown",
   "id": "c8e50bc9-4f47-4142-9037-d96a8c27ba49",
   "metadata": {},
   "source": [
    "### Clasificador Gaussiano importado de Sklearn"
   ]
  },
  {
   "cell_type": "code",
   "execution_count": 104,
   "id": "1cfb7e05-2c64-4637-b66f-10420edda86f",
   "metadata": {},
   "outputs": [
    {
     "name": "stdout",
     "output_type": "stream",
     "text": [
      "Precisión en entrenamiento: 82.82%\n",
      "Precisión en validación: 80.00%\n",
      "Precisión en prueba: 89.29%\n"
     ]
    }
   ],
   "source": [
    "# Crear una instancia del clasificador Naive Bayes Gaussiano\n",
    "nb_classifier = GaussianNB()\n",
    "\n",
    "# Entrenar el modelo con los datos de entrenamiento\n",
    "nb_classifier.fit(X_ent, y_ent)\n",
    "\n",
    "# Predecir para los conjuntos de entrenamiento, validación y prueba\n",
    "predicciones_ent = nb_classifier.predict(X_ent)\n",
    "predicciones_val = nb_classifier.predict(X_val)\n",
    "predicciones_test = nb_classifier.predict(X_test)\n",
    "\n",
    "# Calcular la precisión (accuracy)\n",
    "accuracy_ent_mediana = accuracy_score(y_ent, predicciones_ent) * 100\n",
    "accuracy_val_mediana = accuracy_score(y_val, predicciones_val) * 100\n",
    "accuracy_test_mediana = accuracy_score(y_test, predicciones_test) * 100\n",
    "\n",
    "# Imprimir los resultados\n",
    "print(f\"Precisión en entrenamiento: {accuracy_ent_mediana:.2f}%\")\n",
    "print(f\"Precisión en validación: {accuracy_val_mediana:.2f}%\")\n",
    "print(f\"Precisión en prueba: {accuracy_test_mediana:.2f}%\")"
   ]
  },
  {
   "cell_type": "markdown",
   "id": "66d0a6fb-3895-441f-892f-e00c22da1627",
   "metadata": {},
   "source": [
    "## Comparación de las estrategias"
   ]
  },
  {
   "cell_type": "code",
   "execution_count": 105,
   "id": "2eb98904-7c2d-467b-a6f1-df8db8146a3b",
   "metadata": {},
   "outputs": [
    {
     "name": "stdout",
     "output_type": "stream",
     "text": [
      "\n",
      "Análisis del desempeño eliminando la data con '?':\n",
      "--------------------------------------------------\n",
      "La precisión en entrenamiento es 66.75\n",
      "La precisión en validación es 70.80\n",
      "La precisión en prueba es 70.80\n",
      "\n",
      "\n",
      "\n",
      "Análisis del desempeño utilizando la mediana:\n",
      "--------------------------------------------------\n",
      "La precisión en entrenamiento es 82.82\n",
      "La precisión en validación es 80.00\n",
      "La precisión en prueba es 89.29\n"
     ]
    }
   ],
   "source": [
    "# Analizar el desempeño\n",
    "print(\"\\nAnálisis del desempeño eliminando la data con '?':\")\n",
    "print(\"-\" * 50)\n",
    "print(f\"La precisión en entrenamiento es {accuracy_ent_interrogacion:.2f}\")\n",
    "print(f\"La precisión en validación es {accuracy_val_interrogacion:.2f}\")\n",
    "print(f\"La precisión en prueba es {accuracy_test_interrogacion:.2f}\")\n",
    "print(\"\\n\")\n",
    "print(\"\\nAnálisis del desempeño utilizando la mediana:\")\n",
    "print(\"-\" * 50)\n",
    "print(f\"La precisión en entrenamiento es {accuracy_ent_mediana:.2f}\")\n",
    "print(f\"La precisión en validación es {accuracy_val_mediana:.2f}\")\n",
    "print(f\"La precisión en prueba es {accuracy_test_mediana:.2f}\")"
   ]
  }
 ],
 "metadata": {
  "kernelspec": {
   "display_name": "Python 3 (ipykernel)",
   "language": "python",
   "name": "python3"
  },
  "language_info": {
   "codemirror_mode": {
    "name": "ipython",
    "version": 3
   },
   "file_extension": ".py",
   "mimetype": "text/x-python",
   "name": "python",
   "nbconvert_exporter": "python",
   "pygments_lexer": "ipython3",
   "version": "3.9.21"
  }
 },
 "nbformat": 4,
 "nbformat_minor": 5
}
