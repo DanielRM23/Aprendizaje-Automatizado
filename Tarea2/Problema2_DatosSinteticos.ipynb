{
 "cells": [
  {
   "cell_type": "code",
   "execution_count": 1,
   "id": "ba0b0b6d-287d-4893-b1c9-1174d831901e",
   "metadata": {},
   "outputs": [],
   "source": [
    "import pandas as pd\n",
    "import numpy as np\n",
    "import matplotlib.pyplot as plt"
   ]
  },
  {
   "cell_type": "code",
   "execution_count": 2,
   "id": "3d088b31-1ddd-4397-aa0d-d4ef8331e9cb",
   "metadata": {},
   "outputs": [],
   "source": [
    "ruta = \"./regl_data/\""
   ]
  },
  {
   "cell_type": "code",
   "execution_count": 6,
   "id": "d55caddf-1d14-422e-b2e8-6e347be0f0b4",
   "metadata": {},
   "outputs": [],
   "source": [
    "x_entrenamiento_csv = ruta + \"x_entrenamiento.csv\"\n",
    "x_validacion_csv = ruta + \"x_validacion.csv\"\n",
    "y_entrenamiento_csv = ruta + \"y_entrenamiento.csv\"\n",
    "y_validacion_csv = ruta + \"y_validacion.csv\""
   ]
  },
  {
   "cell_type": "code",
   "execution_count": 10,
   "id": "75df141b-7505-4073-8bf8-a2189b3efd60",
   "metadata": {},
   "outputs": [],
   "source": [
    "x_entrenamiento = pd.read_csv(x_entrenamiento_csv, \n",
    "                              header = None)\n",
    "\n",
    "y_entrenamiento = pd.read_csv(y_entrenamiento_csv, \n",
    "                              header=None)\n",
    "\n",
    "x_validacion = pd.read_csv(x_validacion_csv,\n",
    "                          header=None)\n",
    "\n",
    "y_validacion = pd.read_csv(y_validacion_csv, header=None)"
   ]
  },
  {
   "cell_type": "code",
   "execution_count": null,
   "id": "29eec68c-ce22-4469-9ac3-f450e57077ec",
   "metadata": {},
   "outputs": [],
   "source": []
  }
 ],
 "metadata": {
  "kernelspec": {
   "display_name": "Python 3 (ipykernel)",
   "language": "python",
   "name": "python3"
  },
  "language_info": {
   "codemirror_mode": {
    "name": "ipython",
    "version": 3
   },
   "file_extension": ".py",
   "mimetype": "text/x-python",
   "name": "python",
   "nbconvert_exporter": "python",
   "pygments_lexer": "ipython3",
   "version": "3.9.21"
  }
 },
 "nbformat": 4,
 "nbformat_minor": 5
}
