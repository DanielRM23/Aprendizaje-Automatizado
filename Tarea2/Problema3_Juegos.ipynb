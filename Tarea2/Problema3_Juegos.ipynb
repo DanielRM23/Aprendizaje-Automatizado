{
 "cells": [
  {
   "cell_type": "code",
   "execution_count": 1,
   "id": "8a717a0e-7427-4834-9764-7da417a83352",
   "metadata": {},
   "outputs": [],
   "source": [
    "import pandas as pd\n",
    "import numpy as np\n",
    "import matplotlib.pyplot as plt"
   ]
  },
  {
   "cell_type": "code",
   "execution_count": 2,
   "id": "5ebb8756-1277-4922-a88c-3a342e8d3f9e",
   "metadata": {},
   "outputs": [],
   "source": [
    "entrenamiento = \"partidas_entrenamiento.csv\"\n",
    "prueba = \"partidas_prueba.csv\""
   ]
  },
  {
   "cell_type": "code",
   "execution_count": 4,
   "id": "1fface29-7b81-448c-be1e-d59a02f44338",
   "metadata": {},
   "outputs": [],
   "source": [
    "data_entrenamiento = pd.read_csv(entrenamiento, \n",
    "                                 header=None)\n",
    "\n",
    "data_prueba = pd.read_csv(prueba, \n",
    "                          header= None)"
   ]
  }
 ],
 "metadata": {
  "kernelspec": {
   "display_name": "Python 3 (ipykernel)",
   "language": "python",
   "name": "python3"
  },
  "language_info": {
   "codemirror_mode": {
    "name": "ipython",
    "version": 3
   },
   "file_extension": ".py",
   "mimetype": "text/x-python",
   "name": "python",
   "nbconvert_exporter": "python",
   "pygments_lexer": "ipython3",
   "version": "3.9.21"
  }
 },
 "nbformat": 4,
 "nbformat_minor": 5
}
