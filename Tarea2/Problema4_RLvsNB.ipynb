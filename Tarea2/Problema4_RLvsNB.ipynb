{
 "cells": [
  {
   "cell_type": "code",
   "execution_count": 1,
   "id": "6e87e154-9536-4f93-a5c0-6c5cc78e1bb2",
   "metadata": {},
   "outputs": [],
   "source": [
    "import pandas as pd\n",
    "import numpy as np\n",
    "import matplotlib.pyplot as plt"
   ]
  },
  {
   "cell_type": "code",
   "execution_count": 2,
   "id": "88832fa7-d609-4307-ad5c-867ea51c190a",
   "metadata": {},
   "outputs": [],
   "source": [
    "spam = \"spam.csv\"\n",
    "cancer = \"cancer.csv\""
   ]
  },
  {
   "cell_type": "code",
   "execution_count": 3,
   "id": "e433d8da-2aff-4c57-b96f-0cd8e6f58f30",
   "metadata": {},
   "outputs": [],
   "source": [
    "data_spam = pd.read_csv(spam,\n",
    "                        header = None)\n",
    "\n",
    "data_cancer = pd.read_csv(cancer, \n",
    "                          header = None)"
   ]
  }
 ],
 "metadata": {
  "kernelspec": {
   "display_name": "Python 3 (ipykernel)",
   "language": "python",
   "name": "python3"
  },
  "language_info": {
   "codemirror_mode": {
    "name": "ipython",
    "version": 3
   },
   "file_extension": ".py",
   "mimetype": "text/x-python",
   "name": "python",
   "nbconvert_exporter": "python",
   "pygments_lexer": "ipython3",
   "version": "3.9.21"
  }
 },
 "nbformat": 4,
 "nbformat_minor": 5
}
